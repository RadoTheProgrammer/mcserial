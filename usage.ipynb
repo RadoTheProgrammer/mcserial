{
 "cells": [
  {
   "cell_type": "code",
   "execution_count": 1,
   "metadata": {},
   "outputs": [],
   "source": [
    "from mcserial import MinecraftSerial\n",
    "from mcpi.minecraft import Minecraft\n",
    "mc = Minecraft.create()\n",
    "mcs = MinecraftSerial(mc)"
   ]
  },
  {
   "cell_type": "code",
   "execution_count": 2,
   "metadata": {},
   "outputs": [
    {
     "data": {
      "text/plain": [
       "array([[[ 0.  ,  0.  ,  0.  ,  0.  , 31.02, 31.02],\n",
       "        [ 0.  ,  0.  , 31.02,  0.  ,  0.  ,  0.  ],\n",
       "        [ 0.  ,  0.  ,  0.  , 17.  ,  0.  ,  0.  ],\n",
       "        [ 0.  ,  0.  ,  0.  ,  0.  ,  0.  ,  0.  ],\n",
       "        [ 0.  , 31.02, 31.02,  0.  , 31.02,  0.  ],\n",
       "        [31.02,  0.  ,  0.  ,  0.  ,  0.  ,  0.  ]],\n",
       "\n",
       "       [[ 0.  ,  0.  , 18.  , 18.  , 18.  ,  0.  ],\n",
       "        [ 0.  , 18.  , 18.  , 18.  , 18.  , 18.  ],\n",
       "        [ 0.  , 18.  , 18.  , 17.  , 18.  , 18.  ],\n",
       "        [ 0.  , 18.  , 18.  , 18.  , 18.  , 18.  ],\n",
       "        [ 0.  , 18.  , 18.  , 18.  , 18.  , 18.  ],\n",
       "        [ 0.  ,  0.  ,  0.  ,  0.  ,  0.  ,  0.  ]],\n",
       "\n",
       "       [[ 0.  ,  0.  , 18.  , 18.  , 18.  , 18.  ],\n",
       "        [ 0.  , 18.  , 18.  , 18.  , 18.  , 18.  ],\n",
       "        [ 0.  , 18.  , 18.  , 17.  , 18.  , 18.  ],\n",
       "        [ 0.  , 18.  , 18.  , 18.  , 18.  , 18.  ],\n",
       "        [ 0.  ,  0.  , 18.  , 18.  , 18.  , 18.  ],\n",
       "        [ 0.  ,  0.  ,  0.  ,  0.  ,  0.  ,  0.  ]],\n",
       "\n",
       "       [[ 0.  ,  0.  ,  0.  ,  0.  ,  0.  ,  0.  ],\n",
       "        [ 0.  ,  0.  ,  0.  , 18.  ,  0.  ,  0.  ],\n",
       "        [ 0.  ,  0.  , 18.  , 17.  , 18.  ,  0.  ],\n",
       "        [ 0.  ,  0.  , 18.  , 18.  , 18.  ,  0.  ],\n",
       "        [ 0.  ,  0.  ,  0.  ,  0.  ,  0.  ,  0.  ],\n",
       "        [ 0.  ,  0.  ,  0.  ,  0.  ,  0.  ,  0.  ]],\n",
       "\n",
       "       [[ 0.  ,  0.  ,  0.  ,  0.  ,  0.  , 57.  ],\n",
       "        [ 0.  ,  0.  ,  0.  , 18.  , 57.  , 57.  ],\n",
       "        [ 0.  ,  0.  , 18.  , 18.  , 18.  ,  0.  ],\n",
       "        [ 0.  ,  0.  ,  0.  , 18.  ,  0.  ,  0.  ],\n",
       "        [ 0.  ,  0.  ,  0.  ,  0.  ,  0.  ,  0.  ],\n",
       "        [ 0.  ,  0.  ,  0.  ,  0.  ,  0.  ,  0.  ]]], dtype=float16)"
      ]
     },
     "execution_count": 2,
     "metadata": {},
     "output_type": "execute_result"
    }
   ],
   "source": [
    "data=mcs.copy((101,1,16),(106,5,11))\n",
    "data"
   ]
  },
  {
   "cell_type": "code",
   "execution_count": 13,
   "metadata": {},
   "outputs": [
    {
     "data": {
      "text/plain": [
       "array([[[31.036768,  0.      ,  0.      ,  0.      ,  0.      ],\n",
       "        [ 0.      ,  0.      ,  0.      ,  0.      ,  0.      ],\n",
       "        [ 0.      ,  0.      ,  0.      ,  0.      ,  0.      ],\n",
       "        [ 0.      ,  0.      ,  0.      ,  0.      ,  0.      ],\n",
       "        [ 0.      ,  0.      ,  0.      ,  0.      ,  0.      ]],\n",
       "\n",
       "       [[ 0.      ,  0.      ,  0.      ,  0.      ,  0.      ],\n",
       "        [ 0.      ,  0.      ,  0.      ,  0.      ,  0.      ],\n",
       "        [ 0.      ,  0.      ,  0.      ,  0.      ,  0.      ],\n",
       "        [ 0.      ,  0.      ,  0.      ,  0.      ,  0.      ],\n",
       "        [ 0.      ,  0.      ,  0.      ,  0.      ,  0.      ]],\n",
       "\n",
       "       [[ 0.      ,  0.      ,  0.      ,  0.      ,  0.      ],\n",
       "        [ 0.      ,  0.      ,  0.      ,  0.      ,  0.      ],\n",
       "        [ 0.      ,  0.      ,  0.      ,  0.      ,  0.      ],\n",
       "        [ 0.      ,  0.      ,  0.      ,  0.      ,  0.      ],\n",
       "        [ 0.      ,  0.      ,  0.      ,  0.      ,  0.      ]],\n",
       "\n",
       "       [[ 0.      ,  0.      ,  0.      ,  0.      ,  0.      ],\n",
       "        [ 0.      ,  0.      ,  0.      ,  0.      ,  0.      ],\n",
       "        [ 0.      ,  0.      ,  0.      ,  0.      ,  0.      ],\n",
       "        [ 0.      ,  0.      ,  0.      ,  0.      ,  0.      ],\n",
       "        [ 0.      ,  0.      ,  0.      ,  0.      ,  0.      ]],\n",
       "\n",
       "       [[ 0.      ,  0.      ,  0.      ,  0.      ,  0.      ],\n",
       "        [ 0.      ,  0.      ,  0.      ,  0.      ,  0.      ],\n",
       "        [ 0.      ,  0.      ,  0.      ,  0.      ,  0.      ],\n",
       "        [ 0.      ,  0.      ,  0.      ,  0.      ,  0.      ],\n",
       "        [ 0.      ,  0.      ,  0.      ,  0.      ,  0.      ]]],\n",
       "      dtype=float32)"
      ]
     },
     "execution_count": 13,
     "metadata": {},
     "output_type": "execute_result"
    }
   ],
   "source": [
    "import numpy as np\n",
    "data = np.zeros((5,5,5),dtype=np.float32)\n",
    "data[0,0,0]=31.036767676\n",
    "data"
   ]
  },
  {
   "cell_type": "code",
   "execution_count": 6,
   "metadata": {},
   "outputs": [],
   "source": [
    "import numpy as np\n",
    "data2 = data.view(np.ndarray)"
   ]
  },
  {
   "cell_type": "code",
   "execution_count": 8,
   "metadata": {},
   "outputs": [],
   "source": [
    "mc.setBlock(mcs.hit(\"test\"),31,1)"
   ]
  }
 ],
 "metadata": {
  "kernelspec": {
   "display_name": "Python 3",
   "language": "python",
   "name": "python3"
  },
  "language_info": {
   "codemirror_mode": {
    "name": "ipython",
    "version": 3
   },
   "file_extension": ".py",
   "mimetype": "text/x-python",
   "name": "python",
   "nbconvert_exporter": "python",
   "pygments_lexer": "ipython3",
   "version": "3.12.2"
  }
 },
 "nbformat": 4,
 "nbformat_minor": 2
}
