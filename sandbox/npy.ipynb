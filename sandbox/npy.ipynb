{
 "cells": [
  {
   "cell_type": "code",
   "execution_count": null,
   "metadata": {},
   "outputs": [],
   "source": [
    "%pip install numpy\n",
    "#decision making: use numpy\n",
    "# idea: name the process serialization and deserialization (idea from github copilot)\n"
   ]
  },
  {
   "cell_type": "code",
   "execution_count": 11,
   "metadata": {},
   "outputs": [],
   "source": [
    "import numpy as np\n",
    "import sys\n",
    "dims = (50,50,50)\n",
    "\n"
   ]
  },
  {
   "cell_type": "code",
   "execution_count": 16,
   "metadata": {},
   "outputs": [
    {
     "name": "stdout",
     "output_type": "stream",
     "text": [
      "8\n"
     ]
    }
   ],
   "source": [
    "random_array = np.random.rand(*dims)\n",
    "item_size = random_array.itemsize\n",
    "print(item_size)\n",
    "\n",
    "\n"
   ]
  },
  {
   "cell_type": "code",
   "execution_count": 18,
   "metadata": {},
   "outputs": [
    {
     "data": {
      "text/plain": [
       "256"
      ]
     },
     "execution_count": 18,
     "metadata": {},
     "output_type": "execute_result"
    }
   ],
   "source": [
    "2**8 #content of bytes"
   ]
  },
  {
   "cell_type": "code",
   "execution_count": 17,
   "metadata": {},
   "outputs": [
    {
     "data": {
      "text/plain": [
       "18446744073709551616"
      ]
     },
     "execution_count": 17,
     "metadata": {},
     "output_type": "execute_result"
    }
   ],
   "source": [
    "256**8"
   ]
  },
  {
   "cell_type": "code",
   "execution_count": 9,
   "metadata": {},
   "outputs": [
    {
     "data": {
      "text/plain": [
       "array([[[  0.2,   1.2,   2.2, ...,  47.2,  48.2,  49.2],\n",
       "        [  1.2,   2.2,   3.2, ...,  48.2,  49.2,  50.2],\n",
       "        [  2.2,   3.2,   4.2, ...,  49.2,  50.2,  51.2],\n",
       "        ...,\n",
       "        [ 47.2,  48.2,  49.2, ...,  94.2,  95.2,  96.2],\n",
       "        [ 48.2,  49.2,  50.2, ...,  95.2,  96.2,  97.2],\n",
       "        [ 49.2,  50.2,  51.2, ...,  96.2,  97.2,  98.2]],\n",
       "\n",
       "       [[  1.2,   2.2,   3.2, ...,  48.2,  49.2,  50.2],\n",
       "        [  2.2,   3.2,   4.2, ...,  49.2,  50.2,  51.2],\n",
       "        [  3.2,   4.2,   5.2, ...,  50.2,  51.2,  52.2],\n",
       "        ...,\n",
       "        [ 48.2,  49.2,  50.2, ...,  95.2,  96.2,  97.2],\n",
       "        [ 49.2,  50.2,  51.2, ...,  96.2,  97.2,  98.2],\n",
       "        [ 50.2,  51.2,  52.2, ...,  97.2,  98.2,  99.2]],\n",
       "\n",
       "       [[  2.2,   3.2,   4.2, ...,  49.2,  50.2,  51.2],\n",
       "        [  3.2,   4.2,   5.2, ...,  50.2,  51.2,  52.2],\n",
       "        [  4.2,   5.2,   6.2, ...,  51.2,  52.2,  53.2],\n",
       "        ...,\n",
       "        [ 49.2,  50.2,  51.2, ...,  96.2,  97.2,  98.2],\n",
       "        [ 50.2,  51.2,  52.2, ...,  97.2,  98.2,  99.2],\n",
       "        [ 51.2,  52.2,  53.2, ...,  98.2,  99.2, 100.2]],\n",
       "\n",
       "       ...,\n",
       "\n",
       "       [[ 47.2,  48.2,  49.2, ...,  94.2,  95.2,  96.2],\n",
       "        [ 48.2,  49.2,  50.2, ...,  95.2,  96.2,  97.2],\n",
       "        [ 49.2,  50.2,  51.2, ...,  96.2,  97.2,  98.2],\n",
       "        ...,\n",
       "        [ 94.2,  95.2,  96.2, ..., 141.2, 142.2, 143.2],\n",
       "        [ 95.2,  96.2,  97.2, ..., 142.2, 143.2, 144.2],\n",
       "        [ 96.2,  97.2,  98.2, ..., 143.2, 144.2, 145.2]],\n",
       "\n",
       "       [[ 48.2,  49.2,  50.2, ...,  95.2,  96.2,  97.2],\n",
       "        [ 49.2,  50.2,  51.2, ...,  96.2,  97.2,  98.2],\n",
       "        [ 50.2,  51.2,  52.2, ...,  97.2,  98.2,  99.2],\n",
       "        ...,\n",
       "        [ 95.2,  96.2,  97.2, ..., 142.2, 143.2, 144.2],\n",
       "        [ 96.2,  97.2,  98.2, ..., 143.2, 144.2, 145.2],\n",
       "        [ 97.2,  98.2,  99.2, ..., 144.2, 145.2, 146.2]],\n",
       "\n",
       "       [[ 49.2,  50.2,  51.2, ...,  96.2,  97.2,  98.2],\n",
       "        [ 50.2,  51.2,  52.2, ...,  97.2,  98.2,  99.2],\n",
       "        [ 51.2,  52.2,  53.2, ...,  98.2,  99.2, 100.2],\n",
       "        ...,\n",
       "        [ 96.2,  97.2,  98.2, ..., 143.2, 144.2, 145.2],\n",
       "        [ 97.2,  98.2,  99.2, ..., 144.2, 145.2, 146.2],\n",
       "        [ 98.2,  99.2, 100.2, ..., 145.2, 146.2, 147.2]]])"
      ]
     },
     "execution_count": 9,
     "metadata": {},
     "output_type": "execute_result"
    }
   ],
   "source": [
    "\n",
    "# Create a 4-dimensional array\n",
    "\n",
    "arr= np.zeros(dims)\n",
    "\n",
    "# Print the shape of the array\n",
    "for d0 in range(dims[0]):\n",
    "    for d1 in range(dims[1]):\n",
    "        for d2 in range(dims[2]):\n",
    "            arr[d0, d1, d2] = d0+d1+d2+0.2\n",
    "arr\n",
    "\n"
   ]
  },
  {
   "cell_type": "code",
   "execution_count": 16,
   "metadata": {},
   "outputs": [],
   "source": [
    "\n",
    "np.save(\"array.npy\",arr)"
   ]
  },
  {
   "cell_type": "code",
   "execution_count": 14,
   "metadata": {},
   "outputs": [],
   "source": [
    "\n",
    "\n",
    "with open(\"file.csv\",\"w\") as f:\n",
    "    data=\"\"\n",
    "    for d0 in range(dims[0]):\n",
    "        for d1 in range(dims[1]):\n",
    "            for d2 in range(dims[2]):\n",
    "                data+=f\"{d0+d1+d2}.{2},\"\n",
    "            data+=\"\\n\"\n",
    "        data+=\"\\n\"\n",
    "    f.write(data)"
   ]
  },
  {
   "cell_type": "code",
   "execution_count": 18,
   "metadata": {},
   "outputs": [
    {
     "data": {
      "text/plain": [
       "array([[[  0.2,   1.2,   2.2, ...,  47.2,  48.2,  49.2],\n",
       "        [  1.2,   2.2,   3.2, ...,  48.2,  49.2,  50.2],\n",
       "        [  2.2,   3.2,   4.2, ...,  49.2,  50.2,  51.2],\n",
       "        ...,\n",
       "        [ 47.2,  48.2,  49.2, ...,  94.2,  95.2,  96.2],\n",
       "        [ 48.2,  49.2,  50.2, ...,  95.2,  96.2,  97.2],\n",
       "        [ 49.2,  50.2,  51.2, ...,  96.2,  97.2,  98.2]],\n",
       "\n",
       "       [[  1.2,   2.2,   3.2, ...,  48.2,  49.2,  50.2],\n",
       "        [  2.2,   3.2,   4.2, ...,  49.2,  50.2,  51.2],\n",
       "        [  3.2,   4.2,   5.2, ...,  50.2,  51.2,  52.2],\n",
       "        ...,\n",
       "        [ 48.2,  49.2,  50.2, ...,  95.2,  96.2,  97.2],\n",
       "        [ 49.2,  50.2,  51.2, ...,  96.2,  97.2,  98.2],\n",
       "        [ 50.2,  51.2,  52.2, ...,  97.2,  98.2,  99.2]],\n",
       "\n",
       "       [[  2.2,   3.2,   4.2, ...,  49.2,  50.2,  51.2],\n",
       "        [  3.2,   4.2,   5.2, ...,  50.2,  51.2,  52.2],\n",
       "        [  4.2,   5.2,   6.2, ...,  51.2,  52.2,  53.2],\n",
       "        ...,\n",
       "        [ 49.2,  50.2,  51.2, ...,  96.2,  97.2,  98.2],\n",
       "        [ 50.2,  51.2,  52.2, ...,  97.2,  98.2,  99.2],\n",
       "        [ 51.2,  52.2,  53.2, ...,  98.2,  99.2, 100.2]],\n",
       "\n",
       "       ...,\n",
       "\n",
       "       [[ 47.2,  48.2,  49.2, ...,  94.2,  95.2,  96.2],\n",
       "        [ 48.2,  49.2,  50.2, ...,  95.2,  96.2,  97.2],\n",
       "        [ 49.2,  50.2,  51.2, ...,  96.2,  97.2,  98.2],\n",
       "        ...,\n",
       "        [ 94.2,  95.2,  96.2, ..., 141.2, 142.2, 143.2],\n",
       "        [ 95.2,  96.2,  97.2, ..., 142.2, 143.2, 144.2],\n",
       "        [ 96.2,  97.2,  98.2, ..., 143.2, 144.2, 145.2]],\n",
       "\n",
       "       [[ 48.2,  49.2,  50.2, ...,  95.2,  96.2,  97.2],\n",
       "        [ 49.2,  50.2,  51.2, ...,  96.2,  97.2,  98.2],\n",
       "        [ 50.2,  51.2,  52.2, ...,  97.2,  98.2,  99.2],\n",
       "        ...,\n",
       "        [ 95.2,  96.2,  97.2, ..., 142.2, 143.2, 144.2],\n",
       "        [ 96.2,  97.2,  98.2, ..., 143.2, 144.2, 145.2],\n",
       "        [ 97.2,  98.2,  99.2, ..., 144.2, 145.2, 146.2]],\n",
       "\n",
       "       [[ 49.2,  50.2,  51.2, ...,  96.2,  97.2,  98.2],\n",
       "        [ 50.2,  51.2,  52.2, ...,  97.2,  98.2,  99.2],\n",
       "        [ 51.2,  52.2,  53.2, ...,  98.2,  99.2, 100.2],\n",
       "        ...,\n",
       "        [ 96.2,  97.2,  98.2, ..., 143.2, 144.2, 145.2],\n",
       "        [ 97.2,  98.2,  99.2, ..., 144.2, 145.2, 146.2],\n",
       "        [ 98.2,  99.2, 100.2, ..., 145.2, 146.2, 147.2]]])"
      ]
     },
     "execution_count": 18,
     "metadata": {},
     "output_type": "execute_result"
    }
   ],
   "source": [
    "np.load(\"array.npy\")"
   ]
  },
  {
   "cell_type": "code",
   "execution_count": 15,
   "metadata": {},
   "outputs": [],
   "source": [
    "\n",
    "l0=[]\n",
    "for d0 in range(dims[0]):\n",
    "    l1=[]\n",
    "    for d1 in range(dims[1]):\n",
    "        l2=[]\n",
    "        for d2 in range(dims[2]):\n",
    "            l3=[]\n",
    "            for d3 in range(dims[2]):\n",
    "                l3.append(d0 + d1 + d2 + d3)\n",
    "            l2.append(l3)\n",
    "        l1.append(l2)\n",
    "    l0.append(l1)"
   ]
  },
  {
   "cell_type": "code",
   "execution_count": 12,
   "metadata": {},
   "outputs": [
    {
     "ename": "AttributeError",
     "evalue": "module 'numpy.lib.npyio' has no attribute '_register_converters'",
     "output_type": "error",
     "traceback": [
      "\u001b[0;31m---------------------------------------------------------------------------\u001b[0m",
      "\u001b[0;31mAttributeError\u001b[0m                            Traceback (most recent call last)",
      "Cell \u001b[0;32mIn[12], line 22\u001b[0m\n\u001b[1;32m     19\u001b[0m         \u001b[38;5;28;01mreturn\u001b[39;00m MyType((val, \u001b[38;5;241m1\u001b[39m))\n\u001b[1;32m     21\u001b[0m \u001b[38;5;66;03m# Register the converter function\u001b[39;00m\n\u001b[0;32m---> 22\u001b[0m \u001b[43mnp\u001b[49m\u001b[38;5;241;43m.\u001b[39;49m\u001b[43mlib\u001b[49m\u001b[38;5;241;43m.\u001b[39;49m\u001b[43mnpyio\u001b[49m\u001b[38;5;241;43m.\u001b[39;49m\u001b[43m_register_converters\u001b[49m(converters\u001b[38;5;241m=\u001b[39m{\u001b[38;5;124m'\u001b[39m\u001b[38;5;124mmy_type\u001b[39m\u001b[38;5;124m'\u001b[39m: my_type_converter})\n\u001b[1;32m     24\u001b[0m \u001b[38;5;66;03m# Example usage\u001b[39;00m\n\u001b[1;32m     25\u001b[0m arr \u001b[38;5;241m=\u001b[39m np\u001b[38;5;241m.\u001b[39marray([\u001b[38;5;241m1\u001b[39m, (\u001b[38;5;241m23\u001b[39m, \u001b[38;5;241m2\u001b[39m), \u001b[38;5;241m5\u001b[39m], dtype\u001b[38;5;241m=\u001b[39m\u001b[38;5;124m'\u001b[39m\u001b[38;5;124mmy_type\u001b[39m\u001b[38;5;124m'\u001b[39m)\n",
      "\u001b[0;31mAttributeError\u001b[0m: module 'numpy.lib.npyio' has no attribute '_register_converters'"
     ]
    }
   ],
   "source": []
  }
 ],
 "metadata": {
  "kernelspec": {
   "display_name": "Python 3",
   "language": "python",
   "name": "python3"
  },
  "language_info": {
   "codemirror_mode": {
    "name": "ipython",
    "version": 3
   },
   "file_extension": ".py",
   "mimetype": "text/x-python",
   "name": "python",
   "nbconvert_exporter": "python",
   "pygments_lexer": "ipython3",
   "version": "3.12.2"
  }
 },
 "nbformat": 4,
 "nbformat_minor": 2
}
