{
 "cells": [
  {
   "cell_type": "code",
   "execution_count": 1,
   "metadata": {},
   "outputs": [
    {
     "name": "stdout",
     "output_type": "stream",
     "text": [
      "Obtaining file:///Users/alain/RR/Rpy-mc/mcpi\n",
      "  Installing build dependencies ... \u001b[?25ldone\n",
      "\u001b[?25h  Checking if build backend supports build_editable ... \u001b[?25ldone\n",
      "\u001b[?25h  Getting requirements to build editable ... \u001b[?25ldone\n",
      "\u001b[?25h  Installing backend dependencies ... \u001b[?25ldone\n",
      "\u001b[?25h  Preparing editable metadata (pyproject.toml) ... \u001b[?25ldone\n",
      "\u001b[?25hBuilding wheels for collected packages: mcpi\n",
      "  Building editable for mcpi (pyproject.toml) ... \u001b[?25ldone\n",
      "\u001b[?25h  Created wheel for mcpi: filename=mcpi-1.2.1-0.editable-py3-none-any.whl size=3622 sha256=52a5936557b12757a3b1d82ccecea69803d4395e78be061906eb9f8062ea500b\n",
      "  Stored in directory: /private/var/folders/c9/z15s99997pl5hyx3zkjdxy2h0000gn/T/pip-ephem-wheel-cache-z817jtld/wheels/99/a7/10/22efbacdb2d0cb88d46507b26946a8bec64fce760cda163578\n",
      "Successfully built mcpi\n",
      "Installing collected packages: mcpi\n",
      "  Attempting uninstall: mcpi\n",
      "    Found existing installation: mcpi 1.2.1\n",
      "    Uninstalling mcpi-1.2.1:\n",
      "      Successfully uninstalled mcpi-1.2.1\n",
      "Successfully installed mcpi-1.2.1\n",
      "Note: you may need to restart the kernel to use updated packages.\n"
     ]
    }
   ],
   "source": [
    "%pip install -e ."
   ]
  },
  {
   "cell_type": "code",
   "execution_count": 2,
   "metadata": {},
   "outputs": [
    {
     "data": {
      "text/plain": [
       "False"
      ]
     },
     "execution_count": 2,
     "metadata": {},
     "output_type": "execute_result"
    }
   ],
   "source": [
    "\n",
    "from mcpi.minecraft import Minecraft\n",
    "mc = Minecraft.create()"
   ]
  },
  {
   "cell_type": "code",
   "execution_count": 5,
   "metadata": {},
   "outputs": [
    {
     "name": "stdout",
     "output_type": "stream",
     "text": [
      "b'player.getTile()\\n'\n"
     ]
    },
    {
     "data": {
      "text/plain": [
       "Vec3(14,1,-15)"
      ]
     },
     "execution_count": 5,
     "metadata": {},
     "output_type": "execute_result"
    }
   ],
   "source": [
    "pos = mc.player.getTilePos()\n",
    "pos"
   ]
  },
  {
   "cell_type": "code",
   "execution_count": 6,
   "metadata": {},
   "outputs": [
    {
     "name": "stdout",
     "output_type": "stream",
     "text": [
      "b'world.setBlock(14,1,-15,1)\\n'\n"
     ]
    }
   ],
   "source": [
    "mc.setBlock(pos.x, pos.y, pos.z, 1)"
   ]
  },
  {
   "cell_type": "code",
   "execution_count": 13,
   "metadata": {},
   "outputs": [
    {
     "name": "stdout",
     "output_type": "stream",
     "text": [
      "b'world.setBlock(14,2,-15,50,5)\\n'\n"
     ]
    }
   ],
   "source": [
    "from mcpi import block\n",
    "mc.setBlock(pos.x, pos.y+1, pos.z, block.TORCH.id,5)"
   ]
  },
  {
   "cell_type": "code",
   "execution_count": 15,
   "metadata": {},
   "outputs": [
    {
     "name": "stdout",
     "output_type": "stream",
     "text": [
      "b'world.setBlock(14,1,-15,1)\\n'\n",
      "b'world.setBlock(14,2,-15,50,5)\\n'\n"
     ]
    }
   ],
   "source": [
    "mc.conn._send(b'world.setBlock(14,1,-15,1)\\n')\n",
    "mc.conn._send(b'world.setBlock(14,2,-15,50,5)\\n')"
   ]
  },
  {
   "cell_type": "code",
   "execution_count": 18,
   "metadata": {},
   "outputs": [
    {
     "name": "stdout",
     "output_type": "stream",
     "text": [
      "b'world.setBlock(14,2,-15,50,5)\\n'\n"
     ]
    }
   ],
   "source": [
    "mc.conn._send(b'world.setBlock(14,2,-15,50,5)\\n')\n",
    "#mc.conn._send(b'world.setBlock(14,1,-15,1)\\n')"
   ]
  },
  {
   "cell_type": "code",
   "execution_count": 22,
   "metadata": {},
   "outputs": [
    {
     "name": "stdout",
     "output_type": "stream",
     "text": [
      "b'world.setBlock(14,2,-15,12,0)\\n'\n",
      "b'world.setBlock(14,1,-15,1,0)\\n'\n"
     ]
    }
   ],
   "source": [
    "mc.setBlock(pos.x, pos.y+1, pos.z,block.SAND)\n",
    "mc.setBlock(pos.x, pos.y, pos.z,block.STONE)\n"
   ]
  },
  {
   "cell_type": "code",
   "execution_count": 24,
   "metadata": {},
   "outputs": [
    {
     "name": "stdout",
     "output_type": "stream",
     "text": [
      "b'world.setBlock(14,1,-15,1)\\nworld.setBlock(14,2,-15,50,5)\\n'\n"
     ]
    }
   ],
   "source": [
    "mc.conn._send(b'world.setBlock(14,1,-15,1)\\nworld.setBlock(14,2,-15,50,5)\\n')"
   ]
  }
 ],
 "metadata": {
  "kernelspec": {
   "display_name": "Python 3",
   "language": "python",
   "name": "python3"
  },
  "language_info": {
   "codemirror_mode": {
    "name": "ipython",
    "version": 3
   },
   "file_extension": ".py",
   "mimetype": "text/x-python",
   "name": "python",
   "nbconvert_exporter": "python",
   "pygments_lexer": "ipython3",
   "version": "3.12.2"
  }
 },
 "nbformat": 4,
 "nbformat_minor": 2
}
