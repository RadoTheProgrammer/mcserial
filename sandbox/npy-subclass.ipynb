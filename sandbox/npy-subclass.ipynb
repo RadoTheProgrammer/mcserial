{
 "cells": [
  {
   "cell_type": "code",
   "execution_count": 15,
   "metadata": {},
   "outputs": [],
   "source": [
    "import numpy as np"
   ]
  },
  {
   "cell_type": "code",
   "execution_count": 16,
   "metadata": {},
   "outputs": [
    {
     "name": "stdout",
     "output_type": "stream",
     "text": [
      "[[0. 0. 0. 0. 0. 0. 0. 0. 0. 0.]\n",
      " [0. 0. 0. 0. 0. 0. 0. 0. 0. 0.]\n",
      " [0. 0. 0. 0. 0. 0. 0. 0. 0. 0.]\n",
      " [0. 0. 0. 0. 0. 0. 0. 0. 0. 0.]\n",
      " [0. 0. 0. 0. 0. 0. 0. 0. 0. 0.]\n",
      " [0. 0. 0. 0. 0. 0. 0. 0. 0. 0.]\n",
      " [0. 0. 0. 0. 0. 0. 0. 0. 0. 0.]\n",
      " [0. 0. 0. 0. 0. 0. 0. 0. 0. 0.]\n",
      " [0. 0. 0. 0. 0. 0. 0. 0. 0. 0.]\n",
      " [0. 0. 0. 0. 0. 0. 0. 0. 0. 0.]]\n"
     ]
    }
   ],
   "source": [
    "import numpy as np\n",
    "\n",
    "# Create a subclass of numpy\n",
    "class MyNumpy(np.ndarray):pass\n",
    "    # def __new__(cls, input_array):\n",
    "    #     obj = np.asarray(input_array).view(cls)\n",
    "    #     return obj\n",
    "\n",
    "# Create an instance of the subclass\n",
    "my_array = np.zeros((10,10)).view(MyNumpy)\n",
    "\n",
    "# Print the type of the instance\n",
    "print(my_array)\n"
   ]
  },
  {
   "cell_type": "code",
   "execution_count": 17,
   "metadata": {},
   "outputs": [
    {
     "name": "stdout",
     "output_type": "stream",
     "text": [
      "Requirement already satisfied: tqdm in /Library/Frameworks/Python.framework/Versions/3.12/lib/python3.12/site-packages (4.66.2)\n",
      "Note: you may need to restart the kernel to use updated packages.\n"
     ]
    }
   ],
   "source": [
    "%pip install tqdm"
   ]
  },
  {
   "cell_type": "code",
   "execution_count": 18,
   "metadata": {},
   "outputs": [
    {
     "name": "stderr",
     "output_type": "stream",
     "text": [
      "  0%|          | 0/100 [17:18<?, ?it/s]\n"
     ]
    }
   ],
   "source": [
    "from tqdm import tqdm\n",
    "import time\n",
    "\n",
    "# Define the total number of iterations\n",
    "total_iterations = 100\n",
    "\n",
    "# Create a loop with tqdm to track the progress\n",
    "a =tqdm(range(total_iterations))\n",
    "#     # Perform some task\n",
    "#     time.sleep(0.1)  # Simulating some work\n",
    "\n",
    "#     # Update the progress bar\n",
    "#     #tqdm.set_postfix({'Progress': f'{i+1}/{total_iterations}'})\n",
    "\n",
    "# # Print a completion message\n",
    "# print(\"Task completed!\")\n"
   ]
  },
  {
   "cell_type": "code",
   "execution_count": 14,
   "metadata": {},
   "outputs": [
    {
     "data": {
      "text/plain": [
       "tqdm.std.tqdm"
      ]
     },
     "execution_count": 14,
     "metadata": {},
     "output_type": "execute_result"
    }
   ],
   "source": [
    "type(a)"
   ]
  },
  {
   "cell_type": "code",
   "execution_count": 19,
   "metadata": {},
   "outputs": [
    {
     "name": "stdout",
     "output_type": "stream",
     "text": [
      "45\n",
      "1\n",
      "45\n",
      "1\n",
      "9\n",
      "0\n"
     ]
    }
   ],
   "source": [
    "num1 = 3.45\n",
    "decimal1 = int(num1 % 1 * 100)\n",
    "\n",
    "num2 = 9.02\n",
    "decimal2 = int(num2 % 1 * 100)\n",
    "\n",
    "num3 = 15.1\n",
    "decimal3 = int(num3 % 1 * 10)\n",
    "\n",
    "print(decimal1)  # Output: 45\n",
    "print(decimal2)  # Output: 2\n",
    "def get_decimal(num):\n",
    "    decimal = int(num % 1 * 100)\n",
    "    return decimal\n",
    "\n",
    "# Test the function\n",
    "print(get_decimal(3.45))  # Output: 45\n",
    "print(get_decimal(9.02))  # Output: 2\n",
    "print(get_decimal(15.1))  # Output: 10\n",
    "print(decimal3)  # Output: 10\n"
   ]
  }
 ],
 "metadata": {
  "kernelspec": {
   "display_name": "Python 3",
   "language": "python",
   "name": "python3"
  },
  "language_info": {
   "codemirror_mode": {
    "name": "ipython",
    "version": 3
   },
   "file_extension": ".py",
   "mimetype": "text/x-python",
   "name": "python",
   "nbconvert_exporter": "python",
   "pygments_lexer": "ipython3",
   "version": "3.12.2"
  }
 },
 "nbformat": 4,
 "nbformat_minor": 2
}
